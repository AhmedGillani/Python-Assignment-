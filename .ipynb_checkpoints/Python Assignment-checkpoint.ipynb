{
 "cells": [
  {
   "cell_type": "markdown",
   "id": "7c50aa34",
   "metadata": {},
   "source": [
    "# Question 1"
   ]
  },
  {
   "cell_type": "markdown",
   "id": "d4fd872e",
   "metadata": {},
   "source": [
    "## Write a python program to display all prime numbers within a given range"
   ]
  },
  {
   "cell_type": "markdown",
   "id": "be0728aa",
   "metadata": {},
   "source": [
    "## a) Take 2 inputs, a lower bound and an upper bound from the user"
   ]
  },
  {
   "cell_type": "code",
   "execution_count": 3,
   "id": "f25a8211",
   "metadata": {},
   "outputs": [
    {
     "name": "stdout",
     "output_type": "stream",
     "text": [
      "Please, Entre the lowest range value: 1\n",
      "Please, Entre the upper range value: 15\n"
     ]
    }
   ],
   "source": [
    "lower_bound = int(input('Please, Entre the lowest range value: '))\n",
    "upper_bound = int(input('Please, Entre the upper range value: '))"
   ]
  },
  {
   "cell_type": "markdown",
   "id": "30fc2e38",
   "metadata": {},
   "source": [
    "## b) Implement a solution using count-controlled loops (for loops) \n",
    "## For the count-controlled loops, you can use the range() function to generate a sequence of numbers"
   ]
  },
  {
   "cell_type": "code",
   "execution_count": 4,
   "id": "110f62f4",
   "metadata": {},
   "outputs": [
    {
     "name": "stdout",
     "output_type": "stream",
     "text": [
      "Prime numbers between 1 and 15 are:\n",
      "2\n",
      "3\n",
      "5\n",
      "7\n",
      "11\n",
      "13\n"
     ]
    }
   ],
   "source": [
    "print(\"Prime numbers between\", lower_bound, \"and\", upper_bound, \"are:\")\n",
    "  \n",
    "for number in range (lower_bound, upper_bound + 1):  \n",
    "    if number > 1: \n",
    "        for i in range (2, number):  \n",
    "            if (number % i) == 0:  \n",
    "                break  \n",
    "        else:  \n",
    "            print (number)  "
   ]
  },
  {
   "cell_type": "markdown",
   "id": "f765fa53",
   "metadata": {},
   "source": [
    "## c) Implement a solution using condition-controlled loops (while loops)"
   ]
  },
  {
   "cell_type": "code",
   "execution_count": 5,
   "id": "20cfba94",
   "metadata": {},
   "outputs": [
    {
     "name": "stdout",
     "output_type": "stream",
     "text": [
      "Prime numbers between 1 and 15 are:\n",
      "2\n",
      "3\n",
      "5\n",
      "7\n",
      "11\n",
      "13\n"
     ]
    }
   ],
   "source": [
    "print(\"Prime numbers between\", lower_bound, \"and\", upper_bound, \"are:\")\n",
    "num = lower_bound                              \n",
    "while num < upper_bound+1:\n",
    "    if num > 1:\n",
    "        i = 2\n",
    "        while i < num:\n",
    "            if(num % i) == 0:  \n",
    "                break \n",
    "            i = i + 1\n",
    "        else:\n",
    "            print(num)\n",
    "    num = num + 1\n",
    "    "
   ]
  },
  {
   "cell_type": "markdown",
   "id": "ecbee0ae",
   "metadata": {},
   "source": [
    "# Question 2\n",
    "## Write a python program that takes two numeric inputs x and y.\n",
    "\n",
    "## a) The program should take numeric inputs continously.\n",
    "\n",
    "## b) The program should ensure the range of x and y is between 0 and 1. If either one of the input values is out of range, smaller than 0 or greater than 1, then the program should quit.\n",
    "\n",
    "## c) Implement the XOR gate, where the program returns 1 if both x and y values are different , otherwise, it returns 0. The program should work for floating-point values"
   ]
  },
  {
   "cell_type": "code",
   "execution_count": 2,
   "id": "a047c178",
   "metadata": {},
   "outputs": [
    {
     "name": "stdout",
     "output_type": "stream",
     "text": [
      "Please, Entre first numeric input: .4\n",
      "Please, Entre second numeric input: .4\n",
      "0.4\n",
      "0.4\n",
      "0\n",
      "Please, Entre first numeric input: .3\n",
      "Please, Entre second numeric input: .2\n",
      "0.3\n",
      "0.2\n",
      "1\n",
      "Please, Entre first numeric input: .3\n",
      "Please, Entre second numeric input: .3\n",
      "0.3\n",
      "0.3\n",
      "0\n",
      "Please, Entre first numeric input: 1\n",
      "Please, Entre second numeric input: 1\n",
      "1.0\n",
      "1.0\n",
      "0\n",
      "Please, Entre first numeric input: 3\n",
      "Please, Entre second numeric input: 4\n"
     ]
    }
   ],
   "source": [
    "#      part a\n",
    "#      Entre two numeric inputs continuously\n",
    "\n",
    "while True:\n",
    "    x = float(input('Please, Entre first numeric input: '))\n",
    "    y = float(input('Please, Entre second numeric input: '))\n",
    "    \n",
    "#     part b\n",
    "#     The program should ensure the range of x and y is between 0 and 1. \n",
    "#     If either one of the input values is out of range, smaller than 0 or greater than 1,\n",
    "#     then the program should quit.\n",
    "\n",
    "    if (0 >= x) or (x <= 1):\n",
    "        print(x)\n",
    "    else:\n",
    "        break\n",
    "    if (0 >= y) or (y <= 1):\n",
    "        print(y)\n",
    "    else:\n",
    "        break \n",
    "    \n",
    "#     part c\n",
    "#     Implement the XOR gate, where the program returns 1 if both x and y values are different , otherwise, it returns 0.\n",
    "#     The program should work for floating-point values\n",
    "\n",
    "    if x != y:\n",
    "        print('1')\n",
    "    else:\n",
    "        print('0')"
   ]
  },
  {
   "cell_type": "code",
   "execution_count": null,
   "id": "4f260f3d",
   "metadata": {},
   "outputs": [],
   "source": []
  }
 ],
 "metadata": {
  "kernelspec": {
   "display_name": "Python 3 (ipykernel)",
   "language": "python",
   "name": "python3"
  },
  "language_info": {
   "codemirror_mode": {
    "name": "ipython",
    "version": 3
   },
   "file_extension": ".py",
   "mimetype": "text/x-python",
   "name": "python",
   "nbconvert_exporter": "python",
   "pygments_lexer": "ipython3",
   "version": "3.7.2"
  }
 },
 "nbformat": 4,
 "nbformat_minor": 5
}
